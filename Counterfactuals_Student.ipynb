{
 "cells": [
  {
   "cell_type": "code",
   "execution_count": null,
   "id": "4777b83c",
   "metadata": {},
   "outputs": [],
   "source": [
    "import sys\n",
    "sys.path.insert(0, \"alibi\")\n",
    "sys.path.insert(0, \"DiCE\")\n",
    "import warnings\n",
    "warnings.filterwarnings(\"ignore\")\n",
    "import pandas as pd\n",
    "pd.set_option('max_columns', None)\n",
    "pd.set_option('display.width', 1000)\n",
    "from prepare_datasets import *\n",
    "from sklearn.model_selection import train_test_split\n",
    "from create_model import CreateModel, MLPClassifier\n",
    "from user_preferences import userPreferences\n",
    "from care_explainer import CAREExplainer\n",
    "from wachter_explainer import WACHTERExplainer\n",
    "from dice_explainer import DiCEExplainer\n",
    "from generate_text_explanations import GenerateTextExplanations\n",
    "from utils import *\n",
    "import numpy as np\n",
    "np.set_printoptions(threshold=np.inf)"
   ]
  },
  {
   "cell_type": "code",
   "execution_count": null,
   "id": "d6d7168a",
   "metadata": {},
   "outputs": [],
   "source": [
    "# reading a data set\n",
    "dataset = PrepareStudent('./datasets/','student-por.csv')\n",
    "# splitting the data set into train and test sets\n",
    "X, y = dataset['X_ord'], dataset['y']\n",
    "X_train, X_test, Y_train, Y_test = train_test_split(X, y, test_size=0.2, random_state=42)\n",
    "#blackbox model\n",
    "blackbox = CreateModel(dataset, X_train, X_test, Y_train, Y_test, 'classification', 'nn-c', MLPClassifier)\n",
    "predict_fn = lambda x: blackbox.predict_classes(x).ravel()\n",
    "predict_proba_fn = lambda x: np.asarray([1-blackbox.predict(x).ravel(), blackbox.predict(x).ravel()]).transpose()"
   ]
  },
  {
   "cell_type": "code",
   "execution_count": null,
   "id": "07176657",
   "metadata": {},
   "outputs": [],
   "source": [
    "#select random set of negative outcome (<50k) \n",
    "outcome = blackbox.predict_classes(ord2ohe(X_test, dataset)).ravel()\n",
    "outcome = pd.DataFrame(outcome)\n",
    "outcome.rename(columns={outcome.columns[0]: \"Outcome\" }, inplace = True)\n",
    "positive_outcome = outcome[outcome['Outcome']==1]\n",
    "sample = positive_outcome.sample(n=10, random_state=123)\n",
    "sample = sample.index.values.tolist() "
   ]
  },
  {
   "cell_type": "code",
   "execution_count": null,
   "id": "c67ee307",
   "metadata": {},
   "outputs": [],
   "source": [
    "for i in sample:\n",
    "    x_ord = X_test[i]\n",
    "    CARE_output = CAREExplainer(x_ord, X_train, Y_train, dataset, 'classification', predict_fn, predict_proba_fn,\n",
    "                                        SOUNDNESS=True, COHERENCY=True, ACTIONABILITY=True,\n",
    "                                        user_preferences=userPreferences(dataset, x_ord), cf_class='opposite',\n",
    "                                        probability_thresh=0.5, n_cf=5)\n",
    "    \n",
    "    WACHTER_output = WACHTERExplainer(x_ord, X_train, Y_train, dataset, 'classification', predict_fn, predict_proba_fn,\n",
    "                                        SOUNDNESS=False, COHERENCY=False, ACTIONABILITY=False,\n",
    "                                        user_preferences=userPreferences(dataset, x_ord), cf_class='opposite',\n",
    "                                        probability_thresh=0.5, n_cf=1)\n",
    "\n",
    "    exec(f\"CARE{i} = \\\n",
    "    pd.merge(CARE_output['x_cfs_highlight'],\\\n",
    "    CARE_output['x_cfs_eval'][['Class']], \\\n",
    "    left_index=True, right_index=True, how='left')\")\n",
    "\n",
    "    exec(f\"WACHTER{i} = \\\n",
    "    pd.merge(WACHTER_output['x_cfs_highlight'],\\\n",
    "    WACHTER_output['x_cfs_eval'][['Class']], \\\n",
    "    left_index=True, right_index=True, how='left')\")\n"
   ]
  },
  {
   "cell_type": "code",
   "execution_count": null,
   "id": "5c41a6c5",
   "metadata": {},
   "outputs": [],
   "source": [
    "for i, j in zip(range(1,10), sample):\n",
    "    exec(f\"CARE{i} = CARE{j}\")\n",
    "\n",
    "for i, j in zip(range(1,10), sample):\n",
    "    exec(f\"WACHTER{i} = WACHTER{j}\")\n",
    "\n",
    "CARE_student = pd.concat([CARE1, CARE2, CARE3, CARE4, CARE5, CARE6, CARE7, CARE8, CARE9, CARE10], ignore_index=False)\n",
    "WACHTER_student = pd.concat([WACHTER1, WACHTER2, WACHTER3, WACHTER4, WACHTER5, WACHTER6, WACHTER7, WACHTER8, WACHTER9, WACHTER10], ignore_index=False)\n"
   ]
  }
 ],
 "metadata": {
  "kernelspec": {
   "display_name": "Python 3 (ipykernel)",
   "language": "python",
   "name": "python3"
  },
  "language_info": {
   "codemirror_mode": {
    "name": "ipython",
    "version": 3
   },
   "file_extension": ".py",
   "mimetype": "text/x-python",
   "name": "python",
   "nbconvert_exporter": "python",
   "pygments_lexer": "ipython3",
   "version": "3.8.11"
  }
 },
 "nbformat": 4,
 "nbformat_minor": 5
}
